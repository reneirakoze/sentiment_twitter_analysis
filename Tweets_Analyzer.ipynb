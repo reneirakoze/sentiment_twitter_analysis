{
 "cells": [
  {
   "cell_type": "code",
   "execution_count": 1,
   "metadata": {},
   "outputs": [
    {
     "name": "stdout",
     "output_type": "stream",
     "text": [
      "Requirement already satisfied: tweepy in c:\\python3\\lib\\site-packages (4.2.0)"
     ]
    },
    {
     "name": "stderr",
     "output_type": "stream",
     "text": [
      "WARNING: Ignoring invalid distribution -illow (c:\\python3\\lib\\site-packages)"
     ]
    },
    {
     "name": "stdout",
     "output_type": "stream",
     "text": [
      "\n",
      "Requirement already satisfied: requests-oauthlib<2,>=1.0.0 in c:\\python3\\lib\\site-packages (from tweepy) (1.3.0)\n",
      "Requirement already satisfied: requests<3,>=2.11.1 in c:\\python3\\lib\\site-packages (from tweepy) (2.23.0)\n",
      "Requirement already satisfied: chardet<4,>=3.0.2 in c:\\python3\\lib\\site-packages (from requests<3,>=2.11.1->tweepy) (3.0.4)\n",
      "Requirement already satisfied: idna<3,>=2.5 in c:\\python3\\lib\\site-packages (from requests<3,>=2.11.1->tweepy) (2.9)\n",
      "Requirement already satisfied: urllib3!=1.25.0,!=1.25.1,<1.26,>=1.21.1 in c:\\python3\\lib\\site-packages (from requests<3,>=2.11.1->tweepy) (1.25.8)\n",
      "Requirement already satisfied: certifi>=2017.4.17 in c:\\python3\\lib\\site-packages (from requests<3,>=2.11.1->tweepy) (2019.11.28)\n",
      "Requirement already satisfied: oauthlib>=3.0.0 in c:\\python3\\lib\\site-packages (from requests-oauthlib<2,>=1.0.0->tweepy) (3.1.0)\n"
     ]
    },
    {
     "name": "stderr",
     "output_type": "stream",
     "text": [
      "\n",
      "WARNING: Ignoring invalid distribution -illow (c:\\python3\\lib\\site-packages)\n",
      "WARNING: Ignoring invalid distribution -illow (c:\\python3\\lib\\site-packages)\n",
      "WARNING: Ignoring invalid distribution -illow (c:\\python3\\lib\\site-packages)\n",
      "WARNING: Ignoring invalid distribution -illow (c:\\python3\\lib\\site-packages)\n"
     ]
    }
   ],
   "source": [
    "!pip install tweepy"
   ]
  },
  {
   "cell_type": "code",
   "execution_count": 2,
   "metadata": {},
   "outputs": [
    {
     "name": "stderr",
     "output_type": "stream",
     "text": [
      "WARNING: Ignoring invalid distribution -illow (c:\\python3\\lib\\site-packages)\n",
      "WARNING: Ignoring invalid distribution -illow (c:\\python3\\lib\\site-packages)\n",
      "ERROR: Could not find a version that satisfies the requirement libfreetype6-dev (from versions: none)\n",
      "ERROR: No matching distribution found for libfreetype6-dev\n",
      "WARNING: Ignoring invalid distribution -illow (c:\\python3\\lib\\site-packages)\n",
      "WARNING: Ignoring invalid distribution -illow (c:\\python3\\lib\\site-packages)\n"
     ]
    }
   ],
   "source": [
    "!pip install libfreetype6-dev"
   ]
  },
  {
   "cell_type": "code",
   "execution_count": 3,
   "metadata": {},
   "outputs": [
    {
     "name": "stdout",
     "output_type": "stream",
     "text": [
      "Requirement already satisfied: TextBlob in c:\\python3\\lib\\site-packages (0.17.1)\n",
      "Requirement already satisfied: nltk>=3.1 in c:\\python3\\lib\\site-packages (from TextBlob) (3.4.5)\n",
      "Requirement already satisfied: six in c:\\python3\\lib\\site-packages (from nltk>=3.1->TextBlob) (1.15.0)\n"
     ]
    },
    {
     "name": "stderr",
     "output_type": "stream",
     "text": [
      "WARNING: Ignoring invalid distribution -illow (c:\\python3\\lib\\site-packages)\n",
      "WARNING: Ignoring invalid distribution -illow (c:\\python3\\lib\\site-packages)\n",
      "WARNING: Ignoring invalid distribution -illow (c:\\python3\\lib\\site-packages)\n",
      "WARNING: Ignoring invalid distribution -illow (c:\\python3\\lib\\site-packages)\n",
      "WARNING: Ignoring invalid distribution -illow (c:\\python3\\lib\\site-packages)\n"
     ]
    }
   ],
   "source": [
    "!pip install TextBlob"
   ]
  },
  {
   "cell_type": "code",
   "execution_count": 4,
   "metadata": {},
   "outputs": [
    {
     "name": "stdout",
     "output_type": "stream",
     "text": [
      "Requirement already satisfied: wordCloud in c:\\python3\\lib\\site-packages (1.8.1)\n",
      "Requirement already satisfied: pillow in c:\\python3\\lib\\site-packages (from wordCloud) (8.4.0)\n",
      "Requirement already satisfied: matplotlib in c:\\python3\\lib\\site-packages (from wordCloud) (3.2.1)\n",
      "Requirement already satisfied: numpy>=1.6.1 in c:\\python3\\lib\\site-packages (from wordCloud) (1.18.4)\n",
      "Requirement already satisfied: cycler>=0.10 in c:\\python3\\lib\\site-packages (from matplotlib->wordCloud) (0.10.0)\n",
      "Requirement already satisfied: kiwisolver>=1.0.1 in c:\\python3\\lib\\site-packages (from matplotlib->wordCloud) (1.2.0)\n",
      "Requirement already satisfied: pyparsing!=2.0.4,!=2.1.2,!=2.1.6,>=2.0.1 in c:\\python3\\lib\\site-packages (from matplotlib->wordCloud) (2.4.7)\n",
      "Requirement already satisfied: python-dateutil>=2.1 in c:\\python3\\lib\\site-packages (from matplotlib->wordCloud) (2.8.1)\n",
      "Requirement already satisfied: six in c:\\python3\\lib\\site-packages (from cycler>=0.10->matplotlib->wordCloud) (1.15.0)\n"
     ]
    },
    {
     "name": "stderr",
     "output_type": "stream",
     "text": [
      "WARNING: Ignoring invalid distribution -illow (c:\\python3\\lib\\site-packages)\n",
      "WARNING: Ignoring invalid distribution -illow (c:\\python3\\lib\\site-packages)\n",
      "WARNING: Ignoring invalid distribution -illow (c:\\python3\\lib\\site-packages)\n",
      "WARNING: Ignoring invalid distribution -illow (c:\\python3\\lib\\site-packages)\n",
      "WARNING: Ignoring invalid distribution -illow (c:\\python3\\lib\\site-packages)\n"
     ]
    }
   ],
   "source": [
    "!pip install wordCloud"
   ]
  },
  {
   "cell_type": "code",
   "execution_count": 5,
   "metadata": {
    "colab": {},
    "colab_type": "code",
    "id": "CQa3kvnTMSPy"
   },
   "outputs": [],
   "source": [
    "\n",
    "import tweepy\n",
    "from textblob import TextBlob\n",
    "from wordcloud import WordCloud\n",
    "import pandas as pd\n",
    "import numpy as np\n",
    "import re\n",
    "import matplotlib.pyplot as plt\n",
    "plt.style.use('fivethirtyeight')"
   ]
  },
  {
   "cell_type": "code",
   "execution_count": 6,
   "metadata": {
    "colab": {},
    "colab_type": "code",
    "id": "sXwKD84XTIal"
   },
   "outputs": [],
   "source": [
    "consumerKey =\"QajFk5P0cSdxcQBY1uHNzcQei\"#confidential\n",
    "consumerSecret =\"EBXzfLMbEVdDjZOiXPJkLF4CwmJNcqQP8Zv5DjeDd4FeJfSMfu\" #confidential\n",
    "accessToken  =\"1373100960684253185-dhWIrZ7sjDk59F6ZwCYaE1hlgUOJby\" #confidential\n",
    "accessTokenSecret =\"co7XO7NMb4WjvEjp7j8nUKOJRQBrMpX4JPs2d8PHIYvTg\" # confidential"
   ]
  },
  {
   "cell_type": "code",
   "execution_count": 7,
   "metadata": {
    "colab": {},
    "colab_type": "code",
    "id": "jS0UwQE2Mh2F"
   },
   "outputs": [],
   "source": [
    "# Create the authentication object\n",
    "authenticate = tweepy.OAuthHandler(consumerKey, consumerSecret) \n",
    "    \n",
    "# Set the access token and access token secret\n",
    "authenticate.set_access_token(accessToken, accessTokenSecret) \n",
    "    \n",
    "# Creating the API object while passing in auth information\n",
    "api = tweepy.API(authenticate, wait_on_rate_limit = True)"
   ]
  },
  {
   "cell_type": "code",
   "execution_count": 8,
   "metadata": {
    "colab": {
     "base_uri": "https://localhost:8080/",
     "height": 275
    },
    "colab_type": "code",
    "id": "ms5iUU7ShNbm",
    "outputId": "da429536-ba21-4a55-e04d-3c8ce8ef8fde"
   },
   "outputs": [
    {
     "name": "stderr",
     "output_type": "stream",
     "text": [
      "Unexpected parameter: lang\n"
     ]
    },
    {
     "name": "stdout",
     "output_type": "stream",
     "text": [
      "Show the 5 recent tweets:\n",
      "\n",
      "1) Visited Pale Village in Goa to meet mining workers. In 6 months of AAP being in power, mining industry will be resumed in Goa. Monthly allowances will be given till then and priority in employment in mining industry will be given to those who suffered from job losses. https://t.co/okYAZUDSHy\n",
      "\n",
      "2) 08 Nov -\n",
      "\n",
      "AQI - 390 (301 to 400 - Very Poor)\n",
      "\n",
      "PM10 - 388 (351-430 - Very Poor)\n",
      "\n",
      "PM2.5 - 245 (121 to 250 - Very Poor)\n",
      "\n",
      "3) गोंयातलें एक जागृत देवस्थान. होंडाचे आजोबा देवस्थान. देवाक नमन करून आशिर्वाद घेतलो. https://t.co/AuvqJIJDOk\n",
      "\n",
      "4) गोंय मुक्त जावन 60 वर्सां जालीं तरी सत्तरी म्हालांतल्या ह्या लोकांक आपल्या जाग्याचो मालकी हक्क मेळूंक ना. आज बदरूक आनी मावशी गांवांतल्या लोकांक मेळ्ळों आनी गोंयांत आपाचें सरकार स्थापन जातकर तांकां तांचो हक्क दिवपाचें आस्वासन दिलें. https://t.co/JMfymQOnPt\n",
      "\n",
      "5) Birthday greetings to Shri LK Advani Ji. Praying for his long and healthy life.\n",
      "\n"
     ]
    }
   ],
   "source": [
    "# Extract 100 tweets from the twitter user\n",
    "posts = api.user_timeline(screen_name=\"ArvindKejriwal\", count = 100, lang =\"en\", tweet_mode=\"extended\")\n",
    "\n",
    "#  Print the last 5 tweets\n",
    "print(\"Show the 5 recent tweets:\\n\")\n",
    "i=1\n",
    "for tweet in posts[:5]:\n",
    "    print(str(i) +') '+ tweet.full_text + '\\n')\n",
    "    i= i+1"
   ]
  },
  {
   "cell_type": "code",
   "execution_count": 9,
   "metadata": {
    "colab": {
     "base_uri": "https://localhost:8080/",
     "height": 204
    },
    "colab_type": "code",
    "id": "r1FBTS1chVoe",
    "outputId": "5e6765dc-0415-4a05-b571-cd87e5dcfb23"
   },
   "outputs": [
    {
     "data": {
      "text/html": [
       "<div>\n",
       "<style scoped>\n",
       "    .dataframe tbody tr th:only-of-type {\n",
       "        vertical-align: middle;\n",
       "    }\n",
       "\n",
       "    .dataframe tbody tr th {\n",
       "        vertical-align: top;\n",
       "    }\n",
       "\n",
       "    .dataframe thead th {\n",
       "        text-align: right;\n",
       "    }\n",
       "</style>\n",
       "<table border=\"1\" class=\"dataframe\">\n",
       "  <thead>\n",
       "    <tr style=\"text-align: right;\">\n",
       "      <th></th>\n",
       "      <th>Tweets</th>\n",
       "    </tr>\n",
       "  </thead>\n",
       "  <tbody>\n",
       "    <tr>\n",
       "      <th>0</th>\n",
       "      <td>Visited Pale Village in Goa to meet mining wor...</td>\n",
       "    </tr>\n",
       "    <tr>\n",
       "      <th>1</th>\n",
       "      <td>08 Nov -\\n\\nAQI - 390 (301 to 400 - Very Poor)...</td>\n",
       "    </tr>\n",
       "    <tr>\n",
       "      <th>2</th>\n",
       "      <td>गोंयातलें एक जागृत देवस्थान. होंडाचे आजोबा देव...</td>\n",
       "    </tr>\n",
       "    <tr>\n",
       "      <th>3</th>\n",
       "      <td>गोंय मुक्त जावन 60 वर्सां जालीं तरी सत्तरी म्ह...</td>\n",
       "    </tr>\n",
       "    <tr>\n",
       "      <th>4</th>\n",
       "      <td>Birthday greetings to Shri LK Advani Ji. Prayi...</td>\n",
       "    </tr>\n",
       "  </tbody>\n",
       "</table>\n",
       "</div>"
      ],
      "text/plain": [
       "                                              Tweets\n",
       "0  Visited Pale Village in Goa to meet mining wor...\n",
       "1  08 Nov -\\n\\nAQI - 390 (301 to 400 - Very Poor)...\n",
       "2  गोंयातलें एक जागृत देवस्थान. होंडाचे आजोबा देव...\n",
       "3  गोंय मुक्त जावन 60 वर्सां जालीं तरी सत्तरी म्ह...\n",
       "4  Birthday greetings to Shri LK Advani Ji. Prayi..."
      ]
     },
     "execution_count": 9,
     "metadata": {},
     "output_type": "execute_result"
    }
   ],
   "source": [
    "# Create a dataframe with a column called Tweets\n",
    "df = pd.DataFrame([tweet.full_text for tweet in posts], columns=['Tweets'])\n",
    "# Show the first 5 rows of data\n",
    "df.head()"
   ]
  },
  {
   "cell_type": "code",
   "execution_count": 10,
   "metadata": {
    "colab": {
     "base_uri": "https://localhost:8080/",
     "height": 419
    },
    "colab_type": "code",
    "id": "4IjgopLwiUHm",
    "outputId": "08eb9d33-0f59-4f80-aeaf-e157a2b804a1"
   },
   "outputs": [
    {
     "data": {
      "text/html": [
       "<div>\n",
       "<style scoped>\n",
       "    .dataframe tbody tr th:only-of-type {\n",
       "        vertical-align: middle;\n",
       "    }\n",
       "\n",
       "    .dataframe tbody tr th {\n",
       "        vertical-align: top;\n",
       "    }\n",
       "\n",
       "    .dataframe thead th {\n",
       "        text-align: right;\n",
       "    }\n",
       "</style>\n",
       "<table border=\"1\" class=\"dataframe\">\n",
       "  <thead>\n",
       "    <tr style=\"text-align: right;\">\n",
       "      <th></th>\n",
       "      <th>Tweets</th>\n",
       "    </tr>\n",
       "  </thead>\n",
       "  <tbody>\n",
       "    <tr>\n",
       "      <th>0</th>\n",
       "      <td>Visited Pale Village in Goa to meet mining wor...</td>\n",
       "    </tr>\n",
       "    <tr>\n",
       "      <th>1</th>\n",
       "      <td>08 Nov -\\n\\nAQI - 390 (301 to 400 - Very Poor)...</td>\n",
       "    </tr>\n",
       "    <tr>\n",
       "      <th>2</th>\n",
       "      <td>गोंयातलें एक जागृत देवस्थान. होंडाचे आजोबा देव...</td>\n",
       "    </tr>\n",
       "    <tr>\n",
       "      <th>3</th>\n",
       "      <td>गोंय मुक्त जावन 60 वर्सां जालीं तरी सत्तरी म्ह...</td>\n",
       "    </tr>\n",
       "    <tr>\n",
       "      <th>4</th>\n",
       "      <td>Birthday greetings to Shri LK Advani Ji. Prayi...</td>\n",
       "    </tr>\n",
       "    <tr>\n",
       "      <th>...</th>\n",
       "      <td>...</td>\n",
       "    </tr>\n",
       "    <tr>\n",
       "      <th>95</th>\n",
       "      <td>सभी देशवासियों को ईद-ए-मिलाद-उन-नबी की मुबारक़...</td>\n",
       "    </tr>\n",
       "    <tr>\n",
       "      <th>96</th>\n",
       "      <td>Air quality is good today due to rains\\n\\n18 O...</td>\n",
       "    </tr>\n",
       "    <tr>\n",
       "      <th>97</th>\n",
       "      <td>प्रदूषण के ख़िलाफ़ इस युद्ध में आप भी अपना योग...</td>\n",
       "    </tr>\n",
       "    <tr>\n",
       "      <th>98</th>\n",
       "      <td>: दिल्ली को EV Capital बनाने की दिशा में मुख्य...</td>\n",
       "    </tr>\n",
       "    <tr>\n",
       "      <th>99</th>\n",
       "      <td>May God be merciful on Kerala. Request . volun...</td>\n",
       "    </tr>\n",
       "  </tbody>\n",
       "</table>\n",
       "<p>100 rows × 1 columns</p>\n",
       "</div>"
      ],
      "text/plain": [
       "                                               Tweets\n",
       "0   Visited Pale Village in Goa to meet mining wor...\n",
       "1   08 Nov -\\n\\nAQI - 390 (301 to 400 - Very Poor)...\n",
       "2   गोंयातलें एक जागृत देवस्थान. होंडाचे आजोबा देव...\n",
       "3   गोंय मुक्त जावन 60 वर्सां जालीं तरी सत्तरी म्ह...\n",
       "4   Birthday greetings to Shri LK Advani Ji. Prayi...\n",
       "..                                                ...\n",
       "95  सभी देशवासियों को ईद-ए-मिलाद-उन-नबी की मुबारक़...\n",
       "96  Air quality is good today due to rains\\n\\n18 O...\n",
       "97  प्रदूषण के ख़िलाफ़ इस युद्ध में आप भी अपना योग...\n",
       "98  : दिल्ली को EV Capital बनाने की दिशा में मुख्य...\n",
       "99  May God be merciful on Kerala. Request . volun...\n",
       "\n",
       "[100 rows x 1 columns]"
      ]
     },
     "execution_count": 10,
     "metadata": {},
     "output_type": "execute_result"
    }
   ],
   "source": [
    "# Create a function to clean the tweets\n",
    "def cleanTxt(text):\n",
    " text = re.sub('@[A-Za-z0–9]+', '', text) #Removing @mentions\n",
    " text = re.sub('#', '', text) # Removing '#' hash tag\n",
    " text = re.sub('RT[\\s]+', '', text) # Removing RT\n",
    " text = re.sub('https?:\\/\\/\\S+', '', text) # Removing hyperlink\n",
    " \n",
    " return text\n",
    "\n",
    "\n",
    "# Clean the tweets\n",
    "df['Tweets'] = df['Tweets'].apply(cleanTxt)\n",
    "\n",
    "# Show the cleaned tweets\n",
    "df"
   ]
  },
  {
   "cell_type": "code",
   "execution_count": 11,
   "metadata": {
    "colab": {
     "base_uri": "https://localhost:8080/",
     "height": 419
    },
    "colab_type": "code",
    "id": "l5qM8O2dkqP2",
    "outputId": "f911ae78-5936-414b-e7b6-a0ab653f74ab"
   },
   "outputs": [
    {
     "data": {
      "text/html": [
       "<div>\n",
       "<style scoped>\n",
       "    .dataframe tbody tr th:only-of-type {\n",
       "        vertical-align: middle;\n",
       "    }\n",
       "\n",
       "    .dataframe tbody tr th {\n",
       "        vertical-align: top;\n",
       "    }\n",
       "\n",
       "    .dataframe thead th {\n",
       "        text-align: right;\n",
       "    }\n",
       "</style>\n",
       "<table border=\"1\" class=\"dataframe\">\n",
       "  <thead>\n",
       "    <tr style=\"text-align: right;\">\n",
       "      <th></th>\n",
       "      <th>Tweets</th>\n",
       "      <th>Subjectivity</th>\n",
       "      <th>Polarity</th>\n",
       "    </tr>\n",
       "  </thead>\n",
       "  <tbody>\n",
       "    <tr>\n",
       "      <th>0</th>\n",
       "      <td>Visited Pale Village in Goa to meet mining wor...</td>\n",
       "      <td>0.180</td>\n",
       "      <td>-0.210</td>\n",
       "    </tr>\n",
       "    <tr>\n",
       "      <th>1</th>\n",
       "      <td>08 Nov -\\n\\nAQI - 390 (301 to 400 - Very Poor)...</td>\n",
       "      <td>0.780</td>\n",
       "      <td>-0.520</td>\n",
       "    </tr>\n",
       "    <tr>\n",
       "      <th>2</th>\n",
       "      <td>गोंयातलें एक जागृत देवस्थान. होंडाचे आजोबा देव...</td>\n",
       "      <td>0.000</td>\n",
       "      <td>0.000</td>\n",
       "    </tr>\n",
       "    <tr>\n",
       "      <th>3</th>\n",
       "      <td>गोंय मुक्त जावन 60 वर्सां जालीं तरी सत्तरी म्ह...</td>\n",
       "      <td>0.000</td>\n",
       "      <td>0.000</td>\n",
       "    </tr>\n",
       "    <tr>\n",
       "      <th>4</th>\n",
       "      <td>Birthday greetings to Shri LK Advani Ji. Prayi...</td>\n",
       "      <td>0.450</td>\n",
       "      <td>0.225</td>\n",
       "    </tr>\n",
       "    <tr>\n",
       "      <th>...</th>\n",
       "      <td>...</td>\n",
       "      <td>...</td>\n",
       "      <td>...</td>\n",
       "    </tr>\n",
       "    <tr>\n",
       "      <th>95</th>\n",
       "      <td>सभी देशवासियों को ईद-ए-मिलाद-उन-नबी की मुबारक़...</td>\n",
       "      <td>0.000</td>\n",
       "      <td>0.000</td>\n",
       "    </tr>\n",
       "    <tr>\n",
       "      <th>96</th>\n",
       "      <td>Air quality is good today due to rains\\n\\n18 O...</td>\n",
       "      <td>0.555</td>\n",
       "      <td>0.535</td>\n",
       "    </tr>\n",
       "    <tr>\n",
       "      <th>97</th>\n",
       "      <td>प्रदूषण के ख़िलाफ़ इस युद्ध में आप भी अपना योग...</td>\n",
       "      <td>0.000</td>\n",
       "      <td>0.000</td>\n",
       "    </tr>\n",
       "    <tr>\n",
       "      <th>98</th>\n",
       "      <td>: दिल्ली को EV Capital बनाने की दिशा में मुख्य...</td>\n",
       "      <td>0.000</td>\n",
       "      <td>0.000</td>\n",
       "    </tr>\n",
       "    <tr>\n",
       "      <th>99</th>\n",
       "      <td>May God be merciful on Kerala. Request . volun...</td>\n",
       "      <td>0.650</td>\n",
       "      <td>0.000</td>\n",
       "    </tr>\n",
       "  </tbody>\n",
       "</table>\n",
       "<p>100 rows × 3 columns</p>\n",
       "</div>"
      ],
      "text/plain": [
       "                                               Tweets  Subjectivity  Polarity\n",
       "0   Visited Pale Village in Goa to meet mining wor...         0.180    -0.210\n",
       "1   08 Nov -\\n\\nAQI - 390 (301 to 400 - Very Poor)...         0.780    -0.520\n",
       "2   गोंयातलें एक जागृत देवस्थान. होंडाचे आजोबा देव...         0.000     0.000\n",
       "3   गोंय मुक्त जावन 60 वर्सां जालीं तरी सत्तरी म्ह...         0.000     0.000\n",
       "4   Birthday greetings to Shri LK Advani Ji. Prayi...         0.450     0.225\n",
       "..                                                ...           ...       ...\n",
       "95  सभी देशवासियों को ईद-ए-मिलाद-उन-नबी की मुबारक़...         0.000     0.000\n",
       "96  Air quality is good today due to rains\\n\\n18 O...         0.555     0.535\n",
       "97  प्रदूषण के ख़िलाफ़ इस युद्ध में आप भी अपना योग...         0.000     0.000\n",
       "98  : दिल्ली को EV Capital बनाने की दिशा में मुख्य...         0.000     0.000\n",
       "99  May God be merciful on Kerala. Request . volun...         0.650     0.000\n",
       "\n",
       "[100 rows x 3 columns]"
      ]
     },
     "execution_count": 11,
     "metadata": {},
     "output_type": "execute_result"
    }
   ],
   "source": [
    "# Create a function to get the subjectivity\n",
    "def getSubjectivity(text):\n",
    "   return TextBlob(text).sentiment.subjectivity\n",
    "\n",
    "# Create a function to get the polarity\n",
    "def getPolarity(text):\n",
    "   return  TextBlob(text).sentiment.polarity\n",
    "\n",
    "\n",
    "# Create two new columns 'Subjectivity' & 'Polarity'\n",
    "df['Subjectivity'] = df['Tweets'].apply(getSubjectivity)\n",
    "df['Polarity'] = df['Tweets'].apply(getPolarity)\n",
    "\n",
    "# Show the new dataframe with columns 'Subjectivity' & 'Polarity'\n",
    "df"
   ]
  },
  {
   "cell_type": "code",
   "execution_count": 12,
   "metadata": {
    "colab": {
     "base_uri": "https://localhost:8080/",
     "height": 419
    },
    "colab_type": "code",
    "id": "6_O7oUrUlkPX",
    "outputId": "80289240-5eca-447c-f3c2-5d1073cb4867"
   },
   "outputs": [
    {
     "data": {
      "text/html": [
       "<div>\n",
       "<style scoped>\n",
       "    .dataframe tbody tr th:only-of-type {\n",
       "        vertical-align: middle;\n",
       "    }\n",
       "\n",
       "    .dataframe tbody tr th {\n",
       "        vertical-align: top;\n",
       "    }\n",
       "\n",
       "    .dataframe thead th {\n",
       "        text-align: right;\n",
       "    }\n",
       "</style>\n",
       "<table border=\"1\" class=\"dataframe\">\n",
       "  <thead>\n",
       "    <tr style=\"text-align: right;\">\n",
       "      <th></th>\n",
       "      <th>Tweets</th>\n",
       "      <th>Subjectivity</th>\n",
       "      <th>Polarity</th>\n",
       "      <th>Analysis</th>\n",
       "    </tr>\n",
       "  </thead>\n",
       "  <tbody>\n",
       "    <tr>\n",
       "      <th>0</th>\n",
       "      <td>Visited Pale Village in Goa to meet mining wor...</td>\n",
       "      <td>0.180</td>\n",
       "      <td>-0.210</td>\n",
       "      <td>Negative</td>\n",
       "    </tr>\n",
       "    <tr>\n",
       "      <th>1</th>\n",
       "      <td>08 Nov -\\n\\nAQI - 390 (301 to 400 - Very Poor)...</td>\n",
       "      <td>0.780</td>\n",
       "      <td>-0.520</td>\n",
       "      <td>Negative</td>\n",
       "    </tr>\n",
       "    <tr>\n",
       "      <th>2</th>\n",
       "      <td>गोंयातलें एक जागृत देवस्थान. होंडाचे आजोबा देव...</td>\n",
       "      <td>0.000</td>\n",
       "      <td>0.000</td>\n",
       "      <td>Neutral</td>\n",
       "    </tr>\n",
       "    <tr>\n",
       "      <th>3</th>\n",
       "      <td>गोंय मुक्त जावन 60 वर्सां जालीं तरी सत्तरी म्ह...</td>\n",
       "      <td>0.000</td>\n",
       "      <td>0.000</td>\n",
       "      <td>Neutral</td>\n",
       "    </tr>\n",
       "    <tr>\n",
       "      <th>4</th>\n",
       "      <td>Birthday greetings to Shri LK Advani Ji. Prayi...</td>\n",
       "      <td>0.450</td>\n",
       "      <td>0.225</td>\n",
       "      <td>Positive</td>\n",
       "    </tr>\n",
       "    <tr>\n",
       "      <th>...</th>\n",
       "      <td>...</td>\n",
       "      <td>...</td>\n",
       "      <td>...</td>\n",
       "      <td>...</td>\n",
       "    </tr>\n",
       "    <tr>\n",
       "      <th>95</th>\n",
       "      <td>सभी देशवासियों को ईद-ए-मिलाद-उन-नबी की मुबारक़...</td>\n",
       "      <td>0.000</td>\n",
       "      <td>0.000</td>\n",
       "      <td>Neutral</td>\n",
       "    </tr>\n",
       "    <tr>\n",
       "      <th>96</th>\n",
       "      <td>Air quality is good today due to rains\\n\\n18 O...</td>\n",
       "      <td>0.555</td>\n",
       "      <td>0.535</td>\n",
       "      <td>Positive</td>\n",
       "    </tr>\n",
       "    <tr>\n",
       "      <th>97</th>\n",
       "      <td>प्रदूषण के ख़िलाफ़ इस युद्ध में आप भी अपना योग...</td>\n",
       "      <td>0.000</td>\n",
       "      <td>0.000</td>\n",
       "      <td>Neutral</td>\n",
       "    </tr>\n",
       "    <tr>\n",
       "      <th>98</th>\n",
       "      <td>: दिल्ली को EV Capital बनाने की दिशा में मुख्य...</td>\n",
       "      <td>0.000</td>\n",
       "      <td>0.000</td>\n",
       "      <td>Neutral</td>\n",
       "    </tr>\n",
       "    <tr>\n",
       "      <th>99</th>\n",
       "      <td>May God be merciful on Kerala. Request . volun...</td>\n",
       "      <td>0.650</td>\n",
       "      <td>0.000</td>\n",
       "      <td>Neutral</td>\n",
       "    </tr>\n",
       "  </tbody>\n",
       "</table>\n",
       "<p>100 rows × 4 columns</p>\n",
       "</div>"
      ],
      "text/plain": [
       "                                               Tweets  Subjectivity  Polarity  \\\n",
       "0   Visited Pale Village in Goa to meet mining wor...         0.180    -0.210   \n",
       "1   08 Nov -\\n\\nAQI - 390 (301 to 400 - Very Poor)...         0.780    -0.520   \n",
       "2   गोंयातलें एक जागृत देवस्थान. होंडाचे आजोबा देव...         0.000     0.000   \n",
       "3   गोंय मुक्त जावन 60 वर्सां जालीं तरी सत्तरी म्ह...         0.000     0.000   \n",
       "4   Birthday greetings to Shri LK Advani Ji. Prayi...         0.450     0.225   \n",
       "..                                                ...           ...       ...   \n",
       "95  सभी देशवासियों को ईद-ए-मिलाद-उन-नबी की मुबारक़...         0.000     0.000   \n",
       "96  Air quality is good today due to rains\\n\\n18 O...         0.555     0.535   \n",
       "97  प्रदूषण के ख़िलाफ़ इस युद्ध में आप भी अपना योग...         0.000     0.000   \n",
       "98  : दिल्ली को EV Capital बनाने की दिशा में मुख्य...         0.000     0.000   \n",
       "99  May God be merciful on Kerala. Request . volun...         0.650     0.000   \n",
       "\n",
       "    Analysis  \n",
       "0   Negative  \n",
       "1   Negative  \n",
       "2    Neutral  \n",
       "3    Neutral  \n",
       "4   Positive  \n",
       "..       ...  \n",
       "95   Neutral  \n",
       "96  Positive  \n",
       "97   Neutral  \n",
       "98   Neutral  \n",
       "99   Neutral  \n",
       "\n",
       "[100 rows x 4 columns]"
      ]
     },
     "execution_count": 12,
     "metadata": {},
     "output_type": "execute_result"
    }
   ],
   "source": [
    "# Create a function to compute negative (-1), neutral (0) and positive (+1) analysis\n",
    "def getAnalysis(score):\n",
    "  if score < 0:\n",
    "    return 'Negative'\n",
    "  elif score == 0:\n",
    "    return 'Neutral'\n",
    "  else:\n",
    "    return 'Positive'\n",
    "    \n",
    "df['Analysis'] = df['Polarity'].apply(getAnalysis)\n",
    "# Show the dataframe\n",
    "df"
   ]
  },
  {
   "cell_type": "code",
   "execution_count": 14,
   "metadata": {},
   "outputs": [
    {
     "data": {
      "image/png": "[encoded data removed]",
      "text/plain": [
       "<Figure size 432x288 with 1 Axes>"
      ]
     },
     "metadata": {},
     "output_type": "display_data"
    }
   ],
   "source": [
    "# word cloud visualization\n",
    "allWords = ' '.join([twts for twts in df['Tweets']])\n",
    "wordCloud = WordCloud(width=500, height=300, random_state=21, max_font_size=110).generate(allWords)\n",
    "plt.imshow(wordCloud, interpolation=\"bilinear\")\n",
    "plt.axis('off')\n",
    "plt.show()"
   ]
  },
  {
   "cell_type": "code",
   "execution_count": 13,
   "metadata": {
    "colab": {
     "base_uri": "https://localhost:8080/",
     "height": 374
    },
    "colab_type": "code",
    "id": "w-x6HPyml6h_",
    "outputId": "7b7a8ab2-ba28-4321-fe76-9892b103b9d0"
   },
   "outputs": [
    {
     "data": {
      "image/png": "[encoded data removed]",
      "text/plain": [
       "<Figure size 432x288 with 1 Axes>"
      ]
     },
     "metadata": {},
     "output_type": "display_data"
    }
   ],
   "source": [
    "# Plotting and visualizing the counts\n",
    "plt.title('Sentiment Analysis')\n",
    "plt.xlabel('Sentiment')\n",
    "plt.ylabel('Counts')\n",
    "df['Analysis'].value_counts().plot(kind = 'bar')\n",
    "plt.show()"
   ]
  },
  {
   "cell_type": "code",
   "execution_count": null,
   "metadata": {
    "colab": {},
    "colab_type": "code",
    "id": "gUkLGmihnXmZ"
   },
   "outputs": [],
   "source": []
  }
 ],
 "metadata": {
  "colab": {
   "name": "Tweets Analyzer.ipynb",
   "provenance": []
  },
  "interpreter": {
   "hash": "ca585555a2867b459a38eaf8b2b47956aef7a6f770e52f1f5dfa1f8f05e57688"
  },
  "kernelspec": {
   "display_name": "Python 3.8.2 64-bit (system)",
   "name": "python3"
  },
  "language_info": {
   "codemirror_mode": {
    "name": "ipython",
    "version": 3
   },
   "file_extension": ".py",
   "mimetype": "text/x-python",
   "name": "python",
   "nbconvert_exporter": "python",
   "pygments_lexer": "ipython3",
   "version": "3.8.2"
  }
 },
 "nbformat": 4,
 "nbformat_minor": 1
}
